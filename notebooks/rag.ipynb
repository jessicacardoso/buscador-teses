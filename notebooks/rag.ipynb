{
 "cells": [
  {
   "cell_type": "code",
   "execution_count": null,
   "metadata": {},
   "outputs": [],
   "source": [
    "import os\n",
    "\n",
    "if \"notebooks\" in os.getcwd():\n",
    "    os.chdir(\"..\")"
   ]
  },
  {
   "cell_type": "code",
   "execution_count": null,
   "metadata": {},
   "outputs": [],
   "source": [
    "from openai import OpenAI\n",
    "\n",
    "client = OpenAI()"
   ]
  },
  {
   "cell_type": "code",
   "execution_count": null,
   "metadata": {},
   "outputs": [],
   "source": [
    "from functools import lru_cache\n",
    "\n",
    "from chromadb.api.models.Collection import Collection\n",
    "\n",
    "from src.config import settings\n",
    "from src.extract_embeddings import (\n",
    "    create_chroma_client,\n",
    "    create_thesis_collection,\n",
    ")\n",
    "\n",
    "chromadb_name = \"default\"\n",
    "# chromadb_name = \"instructor\"\n",
    "\n",
    "\n",
    "@lru_cache\n",
    "def load_collection() -> Collection:\n",
    "    client = create_chroma_client.fn(\n",
    "        host=settings.CHROMA_CLIENT_HOSTNAME,\n",
    "        port=settings.CHROMA_CLIENT_PORT,\n",
    "        auth_provider=settings.CHROMA_CLIENT_AUTH_PROVIDER,\n",
    "        auth_credentials=(\n",
    "            settings.CHROMA_CLIENT_AUTH_CREDENTIALS.get_secret_value()\n",
    "        ),\n",
    "        chromadb_name=chromadb_name,\n",
    "    )\n",
    "    collection = create_thesis_collection.fn(\n",
    "        client, chromadb_name=chromadb_name\n",
    "    )\n",
    "    return collection\n",
    "\n",
    "\n",
    "collection = load_collection()"
   ]
  },
  {
   "cell_type": "code",
   "execution_count": null,
   "metadata": {},
   "outputs": [],
   "source": [
    "import textwrap\n",
    "\n",
    "with open(\"src/assets/prompt-text-to-chroma.txt\", encoding=\"utf-8\") as f:\n",
    "    prompt_text_to_chroma = f.read()\n",
    "    prompt_text_to_chroma = textwrap.dedent(prompt_text_to_chroma)"
   ]
  },
  {
   "cell_type": "code",
   "execution_count": null,
   "metadata": {},
   "outputs": [],
   "source": [
    "user_query = \"Gostaria de trabalhos sobre tribos indígenas da Amazônia desenvolvidas na UFPA\"\n",
    "# user_query = \"Pesquisas desafios do câncer de mama nas relações familiares\"\n",
    "# user_query = \"encontre teses e dissertações sobre políticas públicas voltadas a proteção animal\"\n",
    "# user_query = \"Liste-me documentos sobre o trabalho infantil no Brasil\"\n",
    "# user_query = \"Quero um resumo de trabalhos que fale sobre os impactos ambientais da exploração de minério de ferro no Quadrilátero Ferrífero\"\n",
    "# user_query = \"Me dê um resumo de trabalhos que falam sobre o turismo sustentável no Brasil produzidos desde 2020\"\n",
    "\n",
    "\n",
    "completion = client.chat.completions.create(\n",
    "    model=\"gpt-4o-mini\",\n",
    "    messages=[\n",
    "        {\"role\": \"system\", \"content\": prompt_text_to_chroma},\n",
    "        {\"role\": \"user\", \"content\": user_query},\n",
    "    ],\n",
    "    response_format={\"type\": \"json_object\"},\n",
    ")\n",
    "\n",
    "print(completion.choices[0].message)"
   ]
  },
  {
   "cell_type": "code",
   "execution_count": null,
   "metadata": {},
   "outputs": [],
   "source": [
    "import json\n",
    "\n",
    "\n",
    "def extract_json_from_message(message):\n",
    "    return json.loads(message.content)\n",
    "\n",
    "\n",
    "response_dict = extract_json_from_message(completion.choices[0].message)\n",
    "\n",
    "print(response_dict)"
   ]
  },
  {
   "cell_type": "code",
   "execution_count": null,
   "metadata": {},
   "outputs": [],
   "source": [
    "results = collection.query(\n",
    "    query_texts=response_dict[\"query\"],\n",
    "    where=response_dict.get(\"where\", {}),\n",
    "    n_results=20,\n",
    ")\n",
    "\n",
    "results = [item for items in results[\"metadatas\"] for item in items]\n",
    "results"
   ]
  },
  {
   "cell_type": "code",
   "execution_count": null,
   "metadata": {},
   "outputs": [],
   "source": [
    "with open(\"src/assets/prompt-rag.txt\", encoding=\"utf-8\") as f:\n",
    "    prompt_rag = f.read()\n",
    "    prompt_rag = textwrap.dedent(prompt_rag)\n",
    "\n",
    "completion = client.chat.completions.create(\n",
    "    model=\"gpt-4o-mini\",\n",
    "    messages=[\n",
    "        {\"role\": \"system\", \"content\": prompt_rag},\n",
    "        {\n",
    "            \"role\": \"user\",\n",
    "            \"content\": f\"\"\"\n",
    "            {user_query}\n",
    "            {results}\n",
    "            \"\"\",\n",
    "        },\n",
    "    ],\n",
    "    response_format={\"type\": \"json_object\"},\n",
    ")\n",
    "\n",
    "print(completion.choices[0].message)"
   ]
  },
  {
   "cell_type": "code",
   "execution_count": null,
   "metadata": {},
   "outputs": [],
   "source": [
    "response_2 = extract_json_from_message(completion.choices[0].message)\n",
    "response_2"
   ]
  },
  {
   "cell_type": "code",
   "execution_count": null,
   "metadata": {},
   "outputs": [],
   "source": [
    "import pandas as pd\n",
    "\n",
    "df = pd.DataFrame(results)\n",
    "\n",
    "df = df.loc[df[\"id\"].isin(response_2[\"ids\"])]\n",
    "\n",
    "df"
   ]
  }
 ],
 "metadata": {
  "kernelspec": {
   "display_name": ".venv",
   "language": "python",
   "name": "python3"
  },
  "language_info": {
   "codemirror_mode": {
    "name": "ipython",
    "version": 3
   },
   "file_extension": ".py",
   "mimetype": "text/x-python",
   "name": "python",
   "nbconvert_exporter": "python",
   "pygments_lexer": "ipython3",
   "version": "3.12.2"
  }
 },
 "nbformat": 4,
 "nbformat_minor": 2
}
